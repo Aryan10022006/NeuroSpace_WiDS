{
 "cells": [
  {
   "cell_type": "code",
   "execution_count": 1,
   "id": "f2c6fc26-9107-438e-ab59-44c790c73412",
   "metadata": {},
   "outputs": [],
   "source": [
    "#importing dependencies\n",
    "import numpy as np\n",
    "import csv"
   ]
  },
  {
   "cell_type": "code",
   "execution_count": 2,
   "id": "16a3e204-c0d3-40ee-84de-b5c0b9f7b0c6",
   "metadata": {},
   "outputs": [],
   "source": [
    "#laoding dataset\n",
    "data = []\n",
    "with open('./framingham.csv','r') as file:\n",
    "    reader = csv.reader(file)\n",
    "    next(reader)\n",
    "    for row in reader:\n",
    "        if \"NA\" not in row:\n",
    "            data.append([float(x) for x in row])\n",
    "dataset = np.array(data)\n",
    "\n",
    "x = dataset[:,:-1]\n",
    "y = dataset[:,-1]\n",
    "\n",
    "x = (x - x.min(axis=0))/(x.max(axis=0) - x.min(axis=0))\n",
    "x = np.c_[np.ones(x.shape[0]),x]\n"
   ]
  },
  {
   "cell_type": "code",
   "execution_count": 3,
   "id": "bf4a1136-d635-4565-9d70-0ca72913b076",
   "metadata": {},
   "outputs": [],
   "source": [
    "#sigmod function\n",
    "\n",
    "def sigmoid(x):\n",
    "    return 1/(1 + np.exp(-x))\n",
    "    \n"
   ]
  },
  {
   "cell_type": "code",
   "execution_count": 4,
   "id": "ad65bcaa-f34a-4e08-a0d9-9f3fbd19766c",
   "metadata": {},
   "outputs": [],
   "source": [
    "#cost function\n",
    "\n",
    "def cost_func(x,y, weights):\n",
    "    m = len(y)\n",
    "    predictions = sigmoid(np.dot(x,weights))\n",
    "    cost = -(y * np.log(predictions) + (1 - y) * np.log(1 - predictions))\n",
    "    return np.sum(cost)/m\n",
    "\n",
    "        "
   ]
  },
  {
   "cell_type": "code",
   "execution_count": 5,
   "id": "1dc38312-2b2b-4ff7-b230-71cdff4d2ae8",
   "metadata": {},
   "outputs": [],
   "source": [
    "#Gradient Descent\n",
    "\n",
    "def gradient_descent(x, y, weights, alpha, max_iterations=None,tolerance=1e-7):\n",
    "    m = len(y)\n",
    "    cost_record = []\n",
    "    previous_cost = float('inf')\n",
    "    i = 0\n",
    "\n",
    "    while True:\n",
    "        predict = sigmoid(np.dot(x, weights))\n",
    "        grad = np.dot(x.T, (predict - y)) / m\n",
    "        weights -= alpha * grad\n",
    "        current_cost = cost_func(x, y, weights)\n",
    "        cost_record.append(current_cost)\n",
    "\n",
    "        if abs(previous_cost - current_cost) < tolerance:\n",
    "            print(f\"Converged after {i+1} iterations\")\n",
    "            break\n",
    "\n",
    "        if max_iterations is not None and i >= max_iterations - 1:\n",
    "            print(f\"Stopped after reaching max_iterations: {max_iterations}\")\n",
    "            break\n",
    "\n",
    "        previous_cost = current_cost\n",
    "        i += 1\n",
    "\n",
    "    return cost_record, weights\n",
    "\n"
   ]
  },
  {
   "cell_type": "code",
   "execution_count": null,
   "id": "b6009c47-8532-441f-b602-343d2df04e76",
   "metadata": {},
   "outputs": [],
   "source": []
  },
  {
   "cell_type": "code",
   "execution_count": 6,
   "id": "a7732d21-4524-40a1-930e-30cb7f637244",
   "metadata": {},
   "outputs": [
    {
     "name": "stdout",
     "output_type": "stream",
     "text": [
      "Converged after 54486 iterations\n",
      "[-3.42403118  0.47370395  2.12463701 -0.2928989   0.12975583  0.70629717\n",
      "  0.35142273  0.31346812  0.58193547  0.6662753   0.12207606  0.93573022\n",
      " -0.03045768 -0.25254877 -0.53318852  0.48059215]\n"
     ]
    }
   ],
   "source": [
    "#Initializing the models and parameters\n",
    "\n",
    "weights = np.zeros(x.shape[1])\n",
    "alpha = 0.01\n",
    "iterations = 10000\n",
    "\n",
    "cost_values, weights = gradient_descent(x,y,weights,alpha) #training the model\n",
    "print(weights)"
   ]
  },
  {
   "cell_type": "code",
   "execution_count": 7,
   "id": "f5c2b273-08e5-473d-9e77-88d18c33ad44",
   "metadata": {
    "scrolled": true
   },
   "outputs": [
    {
     "data": {
      "image/png": "[encoded data removed]",
      "text/plain": [
       "<Figure size 640x480 with 1 Axes>"
      ]
     },
     "metadata": {},
     "output_type": "display_data"
    }
   ],
   "source": [
    "#Plotting cost funcitons\n",
    "import matplotlib.pyplot as plt\n",
    "\n",
    "plt.plot(range(len(cost_values)), cost_values, label=\"Cost\")\n",
    "plt.xlabel(\"Iterations\")\n",
    "plt.ylabel(\"Cost\")\n",
    "plt.title(\"Cost Function vs. Iterations\")\n",
    "plt.legend()\n",
    "plt.grid()\n",
    "plt.show()"
   ]
  },
  {
   "cell_type": "code",
   "execution_count": 8,
   "id": "8e76d26d-f465-47be-91f6-6faeaa9ab0f4",
   "metadata": {},
   "outputs": [
    {
     "name": "stdout",
     "output_type": "stream",
     "text": [
      "<_csv.reader object at 0x0000023DFBD5EB60>\n",
      "['0', '1', '2', '3', '4', '5', '6', '7', '8', '9', '10', '11', '12', '13', '14', '15']\n",
      "['0', '56', '3', '1', '5', '0', '0', '0', '0', '230', '123', '78.5', '24.71', '76', '87', '1']\n",
      "['0', '63', '1', '0', '0', '0', '0', '1', '1', '236', '155', '82', '39.17', '78', '79', '0']\n",
      "['0', '59', '3', '1', '20', '0', '0', '0', '0', '251', '125', '80', '22.18', '70', '70', '0']\n",
      "['0', '63', '1', '0', '0', '0', '0', '1', '0', '266', '167', '94', '25.23', '95', '94', '0']\n",
      "['0', '52', '1', '0', '0', '0', '0', '0', '0', '265', '137.5', '84.5', '26.91', '72', '86', '0']\n",
      "['1', '48', '1', '0', '0', '0', '0', '0', '0', '204', '125', '84.5', '22.37', '65', '75', '0']\n",
      "['1', '60', '1', '0', '0', '0', '0', '0', '0', '252', '128', '82', '21.18', '75', '70', '1']\n",
      "['1', '50', '1', '0', '0', '0', '0', '0', '0', '260', '119', '74', '21.85', '80', '72', '1']\n",
      "['1', '53', '3', '0', '0', '0', '0', '1', '0', '289', '188', '110', '26.7', '70', '63', '0']\n",
      "['1', '56', '4', '0', '0', '1', '0', '1', '0', '287', '149', '98', '21.68', '90', '75', '1']\n",
      "['1', '47', '2', '1', '3', '0', '0', '0', '0', '198', '120', '80', '25.23', '75', '76', '0']\n",
      "['1', '45', '4', '1', '43', '0', '0', '0', '0', '216', '137.5', '85', '24.24', '83', '105', '0']\n",
      "['1', '58', '1', '0', '0', '0', '0', '0', '0', '233', '125.5', '84', '26.05', '67', '76', '1']\n",
      "['1', '43', '4', '1', '20', '0', '0', '0', '0', '187', '129.5', '88', '25.62', '80', '75', '0']\n",
      "['0', '50', '1', '0', '0', '0', '0', '1', '1', '260', '190', '130', '43.67', '85', '260', '0']\n",
      "['0', '51', '3', '1', '20', '0', '0', '1', '0', '251', '140', '80', '25.6', '75', 'NA', '0']\n",
      "['0', '56', '1', '1', '3', '0', '0', '1', '0', '268', '170', '102', '22.89', '57', 'NA', '0']\n",
      "['1', '58', '3', '0', '0', '0', '0', '1', '0', '187', '141', '81', '24.96', '80', '81', '0']\n",
      "['1', '68', '1', '0', '0', '0', '0', '1', '0', '176', '168', '97', '23.14', '60', '79', '1']\n",
      "['1', '50', '1', '1', '1', '0', '0', '1', '0', '313', '179', '92', '25.97', '66', '86', '1']\n",
      "['1', '51', '3', '1', '43', '0', '0', '0', '0', '207', '126.5', '80', '19.71', '65', '68', '0']\n",
      "['0', '48', '2', '1', '20', 'NA', '0', '0', '0', '248', '131', '72', '22', '84', '86', '0']\n",
      "['0', '44', '1', '1', '15', '0', '0', '0', '0', '210', '126.5', '87', '19.16', '86', 'NA', '0']\n",
      "['0', '52', '2', '0', '0', '0', '0', '0', '0', '269', '133.5', '83', '21.47', '80', '107', '0']\n"
     ]
    }
   ],
   "source": [
    "#testing data\n",
    "data2 = []\n",
    "with open('./test_data.csv','r') as file:\n",
    "    reader = csv.reader(file)\n",
    "    print(reader)\n",
    "    for row in reader:\n",
    "        print(row)\n",
    "        if \"NA\" not in row:\n",
    "            data2.append([float(x) for x in row])\n",
    "test_data = np.array(data2)\n",
    "x_test = test_data[:,:-1]\n",
    "y_test = test_data[:,-1]\n",
    "\n",
    "x_test = (x_test - x_test.min(axis=0))/(x_test.max(axis=0) - x_test.min(axis=0))\n",
    "x_test = np.c_[np.ones(x_test.shape[0]),x_test]\n"
   ]
  },
  {
   "cell_type": "code",
   "execution_count": 9,
   "id": "03e5da77-1d66-4afb-9ae0-6ec2bd1c8df7",
   "metadata": {},
   "outputs": [
    {
     "name": "stdout",
     "output_type": "stream",
     "text": [
      "[0.19574483 0.1885749  0.27346899 0.25476505 0.27706013 0.1943725\n",
      " 0.24894778 0.32006109 0.24120681 0.31148598 0.27043018 0.22197848\n",
      " 0.32160898 0.30722049 0.21556452 0.28133875 0.28323411 0.4641615\n",
      " 0.35683015 0.3924262  0.18154818] [-3.42403118  0.47370395  2.12463701 -0.2928989   0.12975583  0.70629717\n",
      "  0.35142273  0.31346812  0.58193547  0.6662753   0.12207606  0.93573022\n",
      " -0.03045768 -0.25254877 -0.53318852  0.48059215]\n",
      "61.904761904761905\n"
     ]
    }
   ],
   "source": [
    "#Testing the model\n",
    "results = sigmoid(np.dot(x_test, weights))\n",
    "print(results, weights)\n",
    "output = (results >= 0.5).astype(int)\n",
    "\n",
    "accuracy = np.mean(output == y_test)\n",
    "print(accuracy*100)"
   ]
  },
  {
   "cell_type": "code",
   "execution_count": 10,
   "id": "fc73ef91-2116-4443-8234-7c0cf8281dd7",
   "metadata": {},
   "outputs": [
    {
     "name": "stdout",
     "output_type": "stream",
     "text": [
      "[0.0496207  0.05438116 0.15538683 ... 0.29244318 0.19516842 0.09165259] [-3.42403118  0.47370395  2.12463701 -0.2928989   0.12975583  0.70629717\n",
      "  0.35142273  0.31346812  0.58193547  0.6662753   0.12207606  0.93573022\n",
      " -0.03045768 -0.25254877 -0.53318852  0.48059215]\n",
      "85.06564551422319\n"
     ]
    }
   ],
   "source": [
    "results = sigmoid(np.dot(x, weights))\n",
    "print(results, weights)\n",
    "output = (results >= 0.5).astype(int)\n",
    "\n",
    "accuracy = np.mean(output == y)\n",
    "print(accuracy*100)"
   ]
  },
  {
   "cell_type": "code",
   "execution_count": null,
   "id": "40da941b-6d9f-4097-8c09-bd32e9d6bee4",
   "metadata": {},
   "outputs": [],
   "source": []
  }
 ],
 "metadata": {
  "kernelspec": {
   "display_name": "Python 3 (ipykernel)",
   "language": "python",
   "name": "python3"
  },
  "language_info": {
   "codemirror_mode": {
    "name": "ipython",
    "version": 3
   },
   "file_extension": ".py",
   "mimetype": "text/x-python",
   "name": "python",
   "nbconvert_exporter": "python",
   "pygments_lexer": "ipython3",
   "version": "3.12.6"
  }
 },
 "nbformat": 4,
 "nbformat_minor": 5
}
